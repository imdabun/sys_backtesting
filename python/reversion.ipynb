{
 "cells": [
  {
   "cell_type": "markdown",
   "metadata": {},
   "source": [
    "# Import Libraries"
   ]
  },
  {
   "cell_type": "code",
   "execution_count": null,
   "metadata": {},
   "outputs": [],
   "source": [
    "import numpy as np\n",
    "import pandas as pd\n",
    "# import Data\n",
    "from univ import *\n",
    "from scheduler import *\n",
    "from strat import *\n",
    "from optimizer import *\n",
    "from bktest import Backtest"
   ]
  },
  {
   "cell_type": "markdown",
   "metadata": {},
   "source": [
    "# Setting Universe"
   ]
  },
  {
   "cell_type": "code",
   "execution_count": null,
   "metadata": {},
   "outputs": [],
   "source": [
    "universe = create_univ(list(\"cfo\"))"
   ]
  },
  {
   "cell_type": "markdown",
   "metadata": {},
   "source": [
    "# Strategies"
   ]
  },
  {
   "cell_type": "code",
   "execution_count": null,
   "metadata": {},
   "outputs": [],
   "source": [
    "class Reversion(Strategy):\n",
    "    def __init__(self, backdays):\n",
    "        self.backdays = backdays\n",
    "        self.universe = None\n",
    "        self.close = Data.close()\n",
    "\n",
    "    def info(self):\n",
    "        print(\"A classic reversion strategy with [backdays] as parameters\")\n",
    "\n",
    "    def forward(self, t_idx):\n",
    "        alpha = self.universe.new_alpha()\n",
    "        for i in range(len(alpha)):\n",
    "            alpha[i] = -self.close[i][t_idx-self.backdays]\n",
    "        return alpha\n",
    "\n",
    "# You may add more strategies by writing their corresponding classes"
   ]
  },
  {
   "cell_type": "code",
   "execution_count": null,
   "metadata": {},
   "outputs": [],
   "source": [
    "# Then put all your strategies in a strat_lib object\n",
    "\n",
    "strats_dict = {\"rev5\": Reversion(5)}\n",
    "strats = StratLib(strats_dict)"
   ]
  },
  {
   "cell_type": "markdown",
   "metadata": {},
   "source": [
    "# Scheduler(s)"
   ]
  },
  {
   "cell_type": "code",
   "execution_count": null,
   "metadata": {},
   "outputs": [],
   "source": [
    "# You may write custom schedulers for each strategy, or use some default options\n",
    "# If you do write custom schedulers for each strategy, create a dictionary with \n",
    "# the same identifiers as your strategies\n",
    "\n",
    "# Here we use a default scheduler, a fixed time update scheduler with parameter 5\n",
    "\n",
    "scheduler_dict = {\"rev5\":FixedTime(5)}\n",
    "scheduler = TradeScheduler(scheduler_dict)"
   ]
  },
  {
   "cell_type": "markdown",
   "metadata": {},
   "source": [
    "# Optimizer"
   ]
  },
  {
   "cell_type": "code",
   "execution_count": null,
   "metadata": {},
   "outputs": [],
   "source": [
    "# you may write custom portfolio optimizers or use some default options\n",
    "\n",
    "optimizer = NormSum()"
   ]
  },
  {
   "cell_type": "markdown",
   "metadata": {},
   "source": [
    "# Writing Backtest Settings (BTSettings dictionary)"
   ]
  },
  {
   "cell_type": "code",
   "execution_count": null,
   "metadata": {},
   "outputs": [],
   "source": [
    "btsettings = {\n",
    "    'univ': 'cfo',\n",
    "    'strats': strats,\n",
    "    'scheduler': scheduler,\n",
    "    'sync_schedule': True,\n",
    "    'portopt': optimizer,\n",
    "    'start_time': 22330473,\n",
    "    'burn_in': 2000,\n",
    "    'end_time': 25195827,\n",
    "}"
   ]
  },
  {
   "cell_type": "markdown",
   "metadata": {},
   "source": [
    "# Backtesting"
   ]
  },
  {
   "cell_type": "code",
   "execution_count": null,
   "metadata": {},
   "outputs": [],
   "source": [
    "bktest = Backtest(btsettings)\n",
    "bktest.run()\n",
    "bktest.dump(path=\"my/directory/path\", index=False)"
   ]
  },
  {
   "cell_type": "code",
   "execution_count": null,
   "metadata": {},
   "outputs": [],
   "source": []
  }
 ],
 "metadata": {
  "language_info": {
   "name": "python"
  },
  "orig_nbformat": 4
 },
 "nbformat": 4,
 "nbformat_minor": 2
}
